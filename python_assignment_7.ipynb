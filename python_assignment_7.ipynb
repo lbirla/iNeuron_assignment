{
 "cells": [
  {
   "cell_type": "code",
   "execution_count": 28,
   "id": "otherwise-publisher",
   "metadata": {},
   "outputs": [],
   "source": [
    "%config Completer.use_jedi = False #this is command used for enable autocompletion in jupyt notebook"
   ]
  },
  {
   "cell_type": "code",
   "execution_count": 29,
   "id": "fitting-customs",
   "metadata": {},
   "outputs": [],
   "source": [
    "import numpy as np"
   ]
  },
  {
   "cell_type": "code",
   "execution_count": 30,
   "id": "elegant-liechtenstein",
   "metadata": {},
   "outputs": [],
   "source": [
    "import pandas as pd"
   ]
  },
  {
   "cell_type": "markdown",
   "id": "announced-absolute",
   "metadata": {},
   "source": [
    "# Write a function so that the columns of the output matrix are powers of the input vector."
   ]
  },
  {
   "cell_type": "code",
   "execution_count": 31,
   "id": "severe-salvation",
   "metadata": {},
   "outputs": [],
   "source": [
    "def mat(arr):\n",
    "    mat = np.column_stack([arr**(len(arr)-i-1) for i in range(len(arr))])\n",
    "    return mat"
   ]
  },
  {
   "cell_type": "code",
   "execution_count": 32,
   "id": "automotive-liberty",
   "metadata": {},
   "outputs": [
    {
     "data": {
      "text/plain": [
       "array([[  1,   1,   1,   1,   1],\n",
       "       [ 16,   8,   4,   2,   1],\n",
       "       [ 81,  27,   9,   3,   1],\n",
       "       [256,  64,  16,   4,   1],\n",
       "       [625, 125,  25,   5,   1]], dtype=int32)"
      ]
     },
     "execution_count": 32,
     "metadata": {},
     "output_type": "execute_result"
    }
   ],
   "source": [
    "mat(np.array([1,2,3,4,5]))\n"
   ]
  },
  {
   "cell_type": "markdown",
   "id": "level-scottish",
   "metadata": {},
   "source": [
    "# "
   ]
  },
  {
   "cell_type": "markdown",
   "id": "republican-chick",
   "metadata": {},
   "source": [
    "# The order of the powers is determined by the increasing boolean argument. Specifically, when increasing is False, the i-th output column is the input vector raised element-wise to the power of N - i - 1."
   ]
  },
  {
   "cell_type": "code",
   "execution_count": 33,
   "id": "split-macro",
   "metadata": {},
   "outputs": [],
   "source": [
    "x=np.array([1,2,3,4,5]) "
   ]
  },
  {
   "cell_type": "code",
   "execution_count": 34,
   "id": "sought-raising",
   "metadata": {},
   "outputs": [
    {
     "data": {
      "text/plain": [
       "array([1, 2, 3, 4, 5])"
      ]
     },
     "execution_count": 34,
     "metadata": {},
     "output_type": "execute_result"
    }
   ],
   "source": [
    "x"
   ]
  },
  {
   "cell_type": "code",
   "execution_count": 35,
   "id": "wicked-admission",
   "metadata": {},
   "outputs": [],
   "source": [
    "matrix1 = np.vander(x,len(x),increasing=False)"
   ]
  },
  {
   "cell_type": "code",
   "execution_count": 36,
   "id": "existing-german",
   "metadata": {},
   "outputs": [
    {
     "data": {
      "text/plain": [
       "array([[  1,   1,   1,   1,   1],\n",
       "       [ 16,   8,   4,   2,   1],\n",
       "       [ 81,  27,   9,   3,   1],\n",
       "       [256,  64,  16,   4,   1],\n",
       "       [625, 125,  25,   5,   1]])"
      ]
     },
     "execution_count": 36,
     "metadata": {},
     "output_type": "execute_result"
    }
   ],
   "source": [
    "matrix1"
   ]
  },
  {
   "cell_type": "code",
   "execution_count": null,
   "id": "lonely-serve",
   "metadata": {},
   "outputs": [],
   "source": []
  },
  {
   "cell_type": "markdown",
   "id": "stone-lotus",
   "metadata": {},
   "source": [
    "# Problem Statement 2:\n",
    "Given a sequence of n values x1, x2, ..., xn and a window size k>0, the k-th moving average of\n",
    "the given sequence is defined as follows:\n",
    "The moving average sequence has n-k+1 elements as shown below.\n",
    "The moving averages with k=4 of a ten-value sequence (n=10) is shown below\n",
    "\n",
    "\n",
    "Question: Write a function to find moving average in an array over a window:\n",
    "Test it over [3, 5, 7, 2, 8, 10, 11, 65, 72, 81, 99, 100, 150] and window of 3."
   ]
  },
  {
   "cell_type": "code",
   "execution_count": 63,
   "id": "gentle-crystal",
   "metadata": {},
   "outputs": [],
   "source": [
    "def move_avg(s,k):\n",
    "    sum =0\n",
    "    t=0\n",
    "    for i in range(len(s)-k+1):\n",
    "        for j in range(t,k+t):\n",
    "            sum=(sum+s[j])\n",
    "        print(\"Moving average \",\"Y\",i+1, \" \",sum/k)\n",
    "        sum=0\n",
    "        t=t+1\n",
    "    #print(sum)\n",
    "    "
   ]
  },
  {
   "cell_type": "code",
   "execution_count": 65,
   "id": "metallic-survivor",
   "metadata": {},
   "outputs": [
    {
     "name": "stdout",
     "output_type": "stream",
     "text": [
      "Moving average  Y 1   5.0\n",
      "Moving average  Y 2   4.666666666666667\n",
      "Moving average  Y 3   5.666666666666667\n",
      "Moving average  Y 4   6.666666666666667\n",
      "Moving average  Y 5   9.666666666666666\n",
      "Moving average  Y 6   28.666666666666668\n",
      "Moving average  Y 7   49.333333333333336\n",
      "Moving average  Y 8   72.66666666666667\n",
      "Moving average  Y 9   84.0\n",
      "Moving average  Y 10   93.33333333333333\n",
      "Moving average  Y 11   116.33333333333333\n"
     ]
    }
   ],
   "source": [
    "move_avg([3, 5, 7, 2, 8, 10, 11, 65, 72, 81, 99, 100, 150],3)"
   ]
  },
  {
   "cell_type": "code",
   "execution_count": null,
   "id": "valid-tackle",
   "metadata": {},
   "outputs": [],
   "source": []
  }
 ],
 "metadata": {
  "kernelspec": {
   "display_name": "Python 3",
   "language": "python",
   "name": "python3"
  },
  "language_info": {
   "codemirror_mode": {
    "name": "ipython",
    "version": 3
   },
   "file_extension": ".py",
   "mimetype": "text/x-python",
   "name": "python",
   "nbconvert_exporter": "python",
   "pygments_lexer": "ipython3",
   "version": "3.7.0"
  }
 },
 "nbformat": 4,
 "nbformat_minor": 5
}
