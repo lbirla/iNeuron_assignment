{
 "cells": [
  {
   "cell_type": "markdown",
   "id": "developing-print",
   "metadata": {},
   "source": [
    "# Map function\n",
    "\n",
    "map(func, *iterables) --> map object\n",
    "\n",
    "Make an iterator that computes the function using arguments from\n",
    "each of the iterables.  Stops when the shortest iterable is exhausted."
   ]
  },
  {
   "cell_type": "code",
   "execution_count": 52,
   "id": "fifty-production",
   "metadata": {},
   "outputs": [],
   "source": [
    "l=[1,2,3,4,5,6]"
   ]
  },
  {
   "cell_type": "code",
   "execution_count": 2,
   "id": "sweet-color",
   "metadata": {},
   "outputs": [
    {
     "data": {
      "text/plain": [
       "[2, 3, 4, 5, 6, 7]"
      ]
     },
     "execution_count": 2,
     "metadata": {},
     "output_type": "execute_result"
    }
   ],
   "source": [
    "[i+1 for i in l]"
   ]
  },
  {
   "cell_type": "code",
   "execution_count": 3,
   "id": "focused-folks",
   "metadata": {},
   "outputs": [],
   "source": [
    "def test(data):\n",
    "    return data+1"
   ]
  },
  {
   "cell_type": "code",
   "execution_count": 4,
   "id": "lasting-childhood",
   "metadata": {},
   "outputs": [
    {
     "data": {
      "text/plain": [
       "2"
      ]
     },
     "execution_count": 4,
     "metadata": {},
     "output_type": "execute_result"
    }
   ],
   "source": [
    "test(1)"
   ]
  },
  {
   "cell_type": "code",
   "execution_count": 5,
   "id": "young-opening",
   "metadata": {},
   "outputs": [
    {
     "data": {
      "text/plain": [
       "<map at 0x1c940943eb8>"
      ]
     },
     "execution_count": 5,
     "metadata": {},
     "output_type": "execute_result"
    }
   ],
   "source": [
    "map(test,l)"
   ]
  },
  {
   "cell_type": "code",
   "execution_count": 6,
   "id": "superb-health",
   "metadata": {},
   "outputs": [
    {
     "data": {
      "text/plain": [
       "[2, 3, 4, 5, 6, 7]"
      ]
     },
     "execution_count": 6,
     "metadata": {},
     "output_type": "execute_result"
    }
   ],
   "source": [
    "list(map(test,l))"
   ]
  },
  {
   "cell_type": "markdown",
   "id": "roman-station",
   "metadata": {},
   "source": [
    "# Perform logrithm of data having values >= 3 and having values <3 perform square root in list l=[1,2,3,4,5,6]"
   ]
  },
  {
   "cell_type": "code",
   "execution_count": 7,
   "id": "failing-dream",
   "metadata": {},
   "outputs": [],
   "source": [
    "%config Completer.use_jedi = False #this is command used for enable autocompletion in jupyt notebook"
   ]
  },
  {
   "cell_type": "code",
   "execution_count": 8,
   "id": "cognitive-outline",
   "metadata": {},
   "outputs": [],
   "source": [
    "import numpy as np"
   ]
  },
  {
   "cell_type": "code",
   "execution_count": 9,
   "id": "linear-modeling",
   "metadata": {},
   "outputs": [],
   "source": [
    "def test1(data):\n",
    "    if data>=3:\n",
    "        return np.log10(data)\n",
    "    else:\n",
    "        return np.sqrt(data)"
   ]
  },
  {
   "cell_type": "code",
   "execution_count": 10,
   "id": "creative-simulation",
   "metadata": {},
   "outputs": [
    {
     "data": {
      "text/plain": [
       "[1.0,\n",
       " 1.4142135623730951,\n",
       " 0.47712125471966244,\n",
       " 0.6020599913279624,\n",
       " 0.6989700043360189,\n",
       " 0.7781512503836436]"
      ]
     },
     "execution_count": 10,
     "metadata": {},
     "output_type": "execute_result"
    }
   ],
   "source": [
    "list(map(test1,l))"
   ]
  },
  {
   "cell_type": "markdown",
   "id": "coated-bulgaria",
   "metadata": {},
   "source": [
    "# Anonymous \n",
    "# In Python, an anonymous function is a function that is defined without a name. While normal functions are defined using the def keyword in Python, anonymous functions are defined using the   \"lambda\"   keyword. Hence, anonymous functions are also called lambda functions\n",
    "\n",
    "# lambda arguments: expression\n"
   ]
  },
  {
   "cell_type": "code",
   "execution_count": 11,
   "id": "casual-thing",
   "metadata": {},
   "outputs": [
    {
     "data": {
      "text/plain": [
       "[1, 2, 3, 4, 5, 6]"
      ]
     },
     "execution_count": 11,
     "metadata": {},
     "output_type": "execute_result"
    }
   ],
   "source": [
    "l"
   ]
  },
  {
   "cell_type": "code",
   "execution_count": 12,
   "id": "affecting-pickup",
   "metadata": {},
   "outputs": [
    {
     "data": {
      "text/plain": [
       "[2, 3, 4, 5, 6, 7]"
      ]
     },
     "execution_count": 12,
     "metadata": {},
     "output_type": "execute_result"
    }
   ],
   "source": [
    "list(map(lambda x: x+1, l))"
   ]
  },
  {
   "cell_type": "code",
   "execution_count": 13,
   "id": "attended-memorial",
   "metadata": {},
   "outputs": [
    {
     "data": {
      "text/plain": [
       "[3, 6, 9, 12, 15, 18]"
      ]
     },
     "execution_count": 13,
     "metadata": {},
     "output_type": "execute_result"
    }
   ],
   "source": [
    "list(map(lambda data: data*3, l))"
   ]
  },
  {
   "cell_type": "code",
   "execution_count": 14,
   "id": "macro-design",
   "metadata": {},
   "outputs": [
    {
     "data": {
      "text/plain": [
       "[2, 4, 6, 8, 10, 12]"
      ]
     },
     "execution_count": 14,
     "metadata": {},
     "output_type": "execute_result"
    }
   ],
   "source": [
    "list(map(lambda data:data+data,l))"
   ]
  },
  {
   "cell_type": "code",
   "execution_count": 15,
   "id": "chubby-papua",
   "metadata": {},
   "outputs": [],
   "source": [
    "l1=[35,45,23,12,34,56]"
   ]
  },
  {
   "cell_type": "code",
   "execution_count": 16,
   "id": "interior-neighbor",
   "metadata": {},
   "outputs": [
    {
     "data": {
      "text/plain": [
       "[36, 47, 26, 16, 39, 62]"
      ]
     },
     "execution_count": 16,
     "metadata": {},
     "output_type": "execute_result"
    }
   ],
   "source": [
    "list(map(lambda x,y: x+y,l,l1))"
   ]
  },
  {
   "cell_type": "code",
   "execution_count": 17,
   "id": "grave-uncertainty",
   "metadata": {},
   "outputs": [],
   "source": [
    "#alternate way using separete function "
   ]
  },
  {
   "cell_type": "code",
   "execution_count": 18,
   "id": "devoted-edition",
   "metadata": {},
   "outputs": [],
   "source": [
    "def test2(x,y):\n",
    "    return x+y"
   ]
  },
  {
   "cell_type": "code",
   "execution_count": 19,
   "id": "severe-rouge",
   "metadata": {},
   "outputs": [
    {
     "data": {
      "text/plain": [
       "[36, 47, 26, 16, 39, 62]"
      ]
     },
     "execution_count": 19,
     "metadata": {},
     "output_type": "execute_result"
    }
   ],
   "source": [
    "list(map(test2,l1,l))"
   ]
  },
  {
   "cell_type": "markdown",
   "id": "following-internship",
   "metadata": {},
   "source": [
    "# Perform logrithm of data having values >= 3 and having values <3 perform square root in list l=[1,2,3,4,5,6]\n",
    "# using lamda function "
   ]
  },
  {
   "cell_type": "code",
   "execution_count": 20,
   "id": "loose-jenny",
   "metadata": {},
   "outputs": [
    {
     "data": {
      "text/plain": [
       "[1.0,\n",
       " 1.4142135623730951,\n",
       " 0.47712125471966244,\n",
       " 0.6020599913279624,\n",
       " 0.6989700043360189,\n",
       " 0.7781512503836436]"
      ]
     },
     "execution_count": 20,
     "metadata": {},
     "output_type": "execute_result"
    }
   ],
   "source": [
    "list(map(lambda x: np.sqrt(x) if x<3 else np.log10(x),l))"
   ]
  },
  {
   "cell_type": "markdown",
   "id": "exciting-drive",
   "metadata": {},
   "source": [
    "\n",
    "# Reduce Function "
   ]
  },
  {
   "cell_type": "code",
   "execution_count": 21,
   "id": "official-jungle",
   "metadata": {},
   "outputs": [],
   "source": [
    "import functools"
   ]
  },
  {
   "cell_type": "code",
   "execution_count": 22,
   "id": "hungry-license",
   "metadata": {},
   "outputs": [],
   "source": [
    "l=[4,5,6,7,8,9]"
   ]
  },
  {
   "cell_type": "code",
   "execution_count": 23,
   "id": "ideal-temple",
   "metadata": {},
   "outputs": [
    {
     "data": {
      "text/plain": [
       "[8, 10, 12, 14, 16, 18]"
      ]
     },
     "execution_count": 23,
     "metadata": {},
     "output_type": "execute_result"
    }
   ],
   "source": [
    "#summation of each and every element available here\n",
    "[i+i for i in l]"
   ]
  },
  {
   "cell_type": "code",
   "execution_count": 24,
   "id": "strategic-reception",
   "metadata": {},
   "outputs": [
    {
     "data": {
      "text/plain": [
       "39"
      ]
     },
     "execution_count": 24,
     "metadata": {},
     "output_type": "execute_result"
    }
   ],
   "source": [
    "sum(l)"
   ]
  },
  {
   "cell_type": "code",
   "execution_count": 25,
   "id": "serial-pilot",
   "metadata": {
    "scrolled": true
   },
   "outputs": [
    {
     "ename": "TypeError",
     "evalue": "'int' object is not iterable",
     "output_type": "error",
     "traceback": [
      "\u001b[1;31m---------------------------------------------------------------------------\u001b[0m",
      "\u001b[1;31mTypeError\u001b[0m                                 Traceback (most recent call last)",
      "\u001b[1;32m<ipython-input-25-e90a45e5348d>\u001b[0m in \u001b[0;36m<module>\u001b[1;34m\u001b[0m\n\u001b[1;32m----> 1\u001b[1;33m \u001b[0mfunctools\u001b[0m\u001b[1;33m.\u001b[0m\u001b[0mreduce\u001b[0m\u001b[1;33m(\u001b[0m\u001b[0msum\u001b[0m\u001b[1;33m,\u001b[0m\u001b[0ml\u001b[0m\u001b[1;33m)\u001b[0m\u001b[1;33m\u001b[0m\u001b[0m\n\u001b[0m",
      "\u001b[1;31mTypeError\u001b[0m: 'int' object is not iterable"
     ]
    }
   ],
   "source": [
    "functools.reduce(sum,l)"
   ]
  },
  {
   "cell_type": "code",
   "execution_count": null,
   "id": "neutral-trinidad",
   "metadata": {},
   "outputs": [],
   "source": [
    "#above is showing error bcz it takes two elements at time"
   ]
  },
  {
   "cell_type": "code",
   "execution_count": null,
   "id": "psychological-conspiracy",
   "metadata": {},
   "outputs": [],
   "source": [
    "def test3(x,y):\n",
    "    return x+y"
   ]
  },
  {
   "cell_type": "code",
   "execution_count": null,
   "id": "missing-territory",
   "metadata": {},
   "outputs": [],
   "source": [
    "functools.reduce(test3,l)"
   ]
  },
  {
   "cell_type": "code",
   "execution_count": null,
   "id": "graduate-august",
   "metadata": {},
   "outputs": [],
   "source": [
    "functools.reduce(lambda x,y:x+y,l)"
   ]
  },
  {
   "cell_type": "code",
   "execution_count": null,
   "id": "fixed-reward",
   "metadata": {},
   "outputs": [],
   "source": [
    "#try to find out biggest element \n",
    "max(l)"
   ]
  },
  {
   "cell_type": "code",
   "execution_count": null,
   "id": "facial-prediction",
   "metadata": {},
   "outputs": [],
   "source": [
    "l=[1,2,3,4,5,6]\n",
    "max=0\n",
    "for i in l:\n",
    "    if max >=i:\n",
    "        print(max)\n",
    "    else:\n",
    "        max =i\n",
    "print(i)"
   ]
  },
  {
   "cell_type": "code",
   "execution_count": 31,
   "id": "fifteen-california",
   "metadata": {},
   "outputs": [],
   "source": [
    "l2=[4,5,6,7,8,99]"
   ]
  },
  {
   "cell_type": "code",
   "execution_count": 32,
   "id": "encouraging-scheme",
   "metadata": {
    "scrolled": true
   },
   "outputs": [],
   "source": [
    "def test4(max, x):\n",
    "    max=0\n",
    "    if max <= x:\n",
    "        max=x\n",
    "    return max"
   ]
  },
  {
   "cell_type": "code",
   "execution_count": 33,
   "id": "incorporated-toolbox",
   "metadata": {
    "scrolled": true
   },
   "outputs": [
    {
     "data": {
      "text/plain": [
       "99"
      ]
     },
     "execution_count": 33,
     "metadata": {},
     "output_type": "execute_result"
    }
   ],
   "source": [
    "functools.reduce(test4,l2)"
   ]
  },
  {
   "cell_type": "code",
   "execution_count": 50,
   "id": "wrong-frank",
   "metadata": {},
   "outputs": [
    {
     "data": {
      "text/plain": [
       "678"
      ]
     },
     "execution_count": 50,
     "metadata": {},
     "output_type": "execute_result"
    }
   ],
   "source": [
    "functools.reduce(test4,[11,33,44,55,90,678])"
   ]
  },
  {
   "cell_type": "markdown",
   "id": "convertible-tuesday",
   "metadata": {},
   "source": [
    "# Using lambda and reduce"
   ]
  },
  {
   "cell_type": "code",
   "execution_count": 51,
   "id": "fantastic-police",
   "metadata": {},
   "outputs": [
    {
     "data": {
      "text/plain": [
       "99"
      ]
     },
     "execution_count": 51,
     "metadata": {},
     "output_type": "execute_result"
    }
   ],
   "source": [
    "functools.reduce(lambda x,y: x if x>y else y,l2 )"
   ]
  },
  {
   "cell_type": "markdown",
   "id": "unique-solid",
   "metadata": {},
   "source": [
    "# Filter function\n",
    "# filter function always work with \"True \" or \"False\" "
   ]
  },
  {
   "cell_type": "code",
   "execution_count": 40,
   "id": "dense-nylon",
   "metadata": {},
   "outputs": [],
   "source": [
    "l=[1,2,3,4,5,6,7,8,9,9,0,0,0,45,67]"
   ]
  },
  {
   "cell_type": "code",
   "execution_count": 41,
   "id": "present-jungle",
   "metadata": {},
   "outputs": [],
   "source": [
    "def test5(data):\n",
    "    if data%2==0:\n",
    "        return True\n",
    "    else:\n",
    "        return False"
   ]
  },
  {
   "cell_type": "code",
   "execution_count": 43,
   "id": "possible-battle",
   "metadata": {},
   "outputs": [
    {
     "data": {
      "text/plain": [
       "[2, 4, 6, 8, 0, 0, 0]"
      ]
     },
     "execution_count": 43,
     "metadata": {},
     "output_type": "execute_result"
    }
   ],
   "source": [
    "# so it give list of even no. bcz above function true with data%2==0\n",
    "list(filter(test5,l))"
   ]
  },
  {
   "cell_type": "code",
   "execution_count": 44,
   "id": "choice-poverty",
   "metadata": {},
   "outputs": [
    {
     "data": {
      "text/plain": [
       "[2, 4, 6, 8, 0, 0, 0]"
      ]
     },
     "execution_count": 44,
     "metadata": {},
     "output_type": "execute_result"
    }
   ],
   "source": [
    "#using lambda function\n",
    "list(filter(lambda x:x%2==0,l))"
   ]
  },
  {
   "cell_type": "code",
   "execution_count": 45,
   "id": "recovered-country",
   "metadata": {},
   "outputs": [
    {
     "data": {
      "text/plain": [
       "[2, 4, 6, 8, 0, 0, 0]"
      ]
     },
     "execution_count": 45,
     "metadata": {},
     "output_type": "execute_result"
    }
   ],
   "source": [
    "list(filter(lambda x:True if x%2==0 else False,l))"
   ]
  },
  {
   "cell_type": "code",
   "execution_count": 48,
   "id": "played-coalition",
   "metadata": {},
   "outputs": [],
   "source": [
    "g=lambda x:True if x%2==0 else False"
   ]
  },
  {
   "cell_type": "code",
   "execution_count": 49,
   "id": "traditional-economy",
   "metadata": {},
   "outputs": [
    {
     "data": {
      "text/plain": [
       "[2, 4, 6, 8, 0, 0, 0]"
      ]
     },
     "execution_count": 49,
     "metadata": {},
     "output_type": "execute_result"
    }
   ],
   "source": [
    "list(filter(g,l))"
   ]
  },
  {
   "cell_type": "code",
   "execution_count": null,
   "id": "driven-providence",
   "metadata": {},
   "outputs": [],
   "source": []
  }
 ],
 "metadata": {
  "kernelspec": {
   "display_name": "Python 3",
   "language": "python",
   "name": "python3"
  },
  "language_info": {
   "codemirror_mode": {
    "name": "ipython",
    "version": 3
   },
   "file_extension": ".py",
   "mimetype": "text/x-python",
   "name": "python",
   "nbconvert_exporter": "python",
   "pygments_lexer": "ipython3",
   "version": "3.7.0"
  }
 },
 "nbformat": 4,
 "nbformat_minor": 5
}
