{
 "cells": [
  {
   "cell_type": "code",
   "execution_count": 16,
   "id": "muslim-alexander",
   "metadata": {},
   "outputs": [],
   "source": [
    "%config Completer.use_jedi = False #this is command used for enable autocompletion in jupyt notebook\n"
   ]
  },
  {
   "cell_type": "markdown",
   "id": "superior-arthur",
   "metadata": {},
   "source": [
    "# 1.1 Write a Python Program(with class concepts) to find the area of the triangle using the below\n",
    "formula.\n",
    "area = (s*(s-a)*(s-b)*(s-c)) ** 0.5\n",
    "Function to take the length of the sides of triangle from user should be defined in the parent\n",
    "class and function to calculate the area should be defined in subclass."
   ]
  },
  {
   "cell_type": "code",
   "execution_count": 18,
   "id": "sufficient-camping",
   "metadata": {},
   "outputs": [
    {
     "name": "stdout",
     "output_type": "stream",
     "text": [
      "enter side a 4\n",
      "enter side b 5\n",
      "enter side a 6\n",
      "perimeter   7.5\n"
     ]
    },
    {
     "data": {
      "text/plain": [
       "('Area of trangle  ', 9.921567416492215)"
      ]
     },
     "execution_count": 18,
     "metadata": {},
     "output_type": "execute_result"
    }
   ],
   "source": [
    "class trangle:\n",
    "    def __init__(self, a,b,c):\n",
    "        self.a = a\n",
    "        self.b=b\n",
    "        self.c=c\n",
    "    def sider(self):\n",
    "        self.a=int(input())\n",
    "        \n",
    "class area(trangle):\n",
    "    def __init__(self,*args):\n",
    "        #area.__init__(self,*args)\n",
    "        super(area,self).__init__(*args)\n",
    "    def perimeter(self):\n",
    "        return s\n",
    "    def trangearea(self):\n",
    "        s=(self.a+self.b+self.c)/2\n",
    "        print(\"perimeter  \", s)\n",
    "        return  \"Area of trangle  \" , (s*(s - self.a)*(s-self.b)*(s-self.c))**0.5  #  0.5 is  used for square root \n",
    "\n",
    "x=area(int(input(\"enter side a \")),int(input(\"enter side b \")),int(input(\"enter side a \")))\n",
    "x.trangearea()"
   ]
  },
  {
   "cell_type": "markdown",
   "id": "controversial-differential",
   "metadata": {},
   "source": [
    "# 1.2 Write a function filter_long_words() that takes a list of words and an integer n and returns the list of words that are longer than n."
   ]
  },
  {
   "cell_type": "code",
   "execution_count": 32,
   "id": "alien-cowboy",
   "metadata": {},
   "outputs": [
    {
     "name": "stdout",
     "output_type": "stream",
     "text": [
      "enter a intiger num 3\n",
      "writ a sentence of words my name is lalit birla\n"
     ]
    },
    {
     "data": {
      "text/plain": [
       "['name', 'lalit', 'birla']"
      ]
     },
     "execution_count": 32,
     "metadata": {},
     "output_type": "execute_result"
    }
   ],
   "source": [
    "def filter_long_words(n,string):\n",
    "    list=[]\n",
    "    txt = string.split(\" \")\n",
    "    for i in txt:\n",
    "        if len(i) > n:\n",
    "            list.append(i)\n",
    "    return list\n",
    "filter_long_words(int(input(\"enter a intiger num \")), input(\"writ a sentence of words \"))\n"
   ]
  },
  {
   "cell_type": "markdown",
   "id": "dedicated-contact",
   "metadata": {},
   "source": [
    "# 2.1 Write a Python program using function concept that maps list of words into a list of integers representing the lengths of the corresponding words.\n",
    "Hint: If a list [ ab,cde,erty] is passed on to the python function output should come as [2,3,4]\n",
    "Here 2,3 and 4 are the lengths of the words in the list."
   ]
  },
  {
   "cell_type": "code",
   "execution_count": 41,
   "id": "increasing-smile",
   "metadata": {},
   "outputs": [],
   "source": [
    "def map_list_word(l):\n",
    "    list1=[]\n",
    "    for i in l:\n",
    "        list1.append(len(i))\n",
    "    return list1\n",
    "        "
   ]
  },
  {
   "cell_type": "code",
   "execution_count": 42,
   "id": "green-developer",
   "metadata": {},
   "outputs": [
    {
     "data": {
      "text/plain": [
       "[3, 2, 4]"
      ]
     },
     "execution_count": 42,
     "metadata": {},
     "output_type": "execute_result"
    }
   ],
   "source": [
    "map_list_word(['abc','ab','abcd'])"
   ]
  },
  {
   "cell_type": "markdown",
   "id": "hungarian-calculation",
   "metadata": {},
   "source": [
    "# 2.2 Write a Python function which takes a character (i.e. a string of length 1) and returns True if it is a vowel, False otherwise."
   ]
  },
  {
   "cell_type": "code",
   "execution_count": 49,
   "id": "rational-render",
   "metadata": {},
   "outputs": [
    {
     "name": "stdout",
     "output_type": "stream",
     "text": [
      "enter a charater of string length 1 :i\n"
     ]
    },
    {
     "data": {
      "text/plain": [
       "True"
      ]
     },
     "execution_count": 49,
     "metadata": {},
     "output_type": "execute_result"
    }
   ],
   "source": [
    "def vowel(char):\n",
    "    if char in (\"a\",\"i\",\"e\",\"o\",\"u\"):\n",
    "        return True\n",
    "    else:\n",
    "        return False\n",
    "vowel(input(\"enter a charater of string length 1 :\"))"
   ]
  },
  {
   "cell_type": "code",
   "execution_count": null,
   "id": "official-workstation",
   "metadata": {},
   "outputs": [],
   "source": []
  },
  {
   "cell_type": "code",
   "execution_count": null,
   "id": "medium-shooting",
   "metadata": {},
   "outputs": [],
   "source": []
  }
 ],
 "metadata": {
  "kernelspec": {
   "display_name": "Python 3",
   "language": "python",
   "name": "python3"
  },
  "language_info": {
   "codemirror_mode": {
    "name": "ipython",
    "version": 3
   },
   "file_extension": ".py",
   "mimetype": "text/x-python",
   "name": "python",
   "nbconvert_exporter": "python",
   "pygments_lexer": "ipython3",
   "version": "3.7.0"
  }
 },
 "nbformat": 4,
 "nbformat_minor": 5
}
