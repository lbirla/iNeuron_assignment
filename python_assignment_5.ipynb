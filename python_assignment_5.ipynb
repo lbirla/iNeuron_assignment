{
 "cells": [
  {
   "cell_type": "code",
   "execution_count": 1,
   "id": "explicit-medicare",
   "metadata": {},
   "outputs": [],
   "source": [
    "%config Completer.use_jedi = False #this is command used for enable autocompletion in jupyt notebook\n"
   ]
  },
  {
   "cell_type": "markdown",
   "id": "after-storage",
   "metadata": {},
   "source": [
    "# Write a function to compute 5/0 and use try/except to catch the exceptions."
   ]
  },
  {
   "cell_type": "code",
   "execution_count": 22,
   "id": "after-nebraska",
   "metadata": {},
   "outputs": [],
   "source": [
    "def compute(num):\n",
    "    try:\n",
    "        div = 5/num\n",
    "        return div\n",
    "    except ZeroDivisionError as e:\n",
    "        print(e)"
   ]
  },
  {
   "cell_type": "code",
   "execution_count": 37,
   "id": "minute-rally",
   "metadata": {},
   "outputs": [
    {
     "name": "stdout",
     "output_type": "stream",
     "text": [
      "0\n",
      "note valid bcz : \n"
     ]
    }
   ],
   "source": [
    "compute(int(input()))"
   ]
  },
  {
   "cell_type": "markdown",
   "id": "signal-welding",
   "metadata": {},
   "source": [
    "# 2. Implement a Python program to generate all sentences where subject is in\n",
    "[\"Americans\", \"Indians\"] and verb is in [\"Play\", \"watch\"] and the object is in\n",
    "[\"Baseball\",\"cricket\"]."
   ]
  },
  {
   "cell_type": "code",
   "execution_count": 38,
   "id": "sitting-bulletin",
   "metadata": {},
   "outputs": [],
   "source": [
    "subjects=[\"Americans \",\"Indians\"]\n",
    "verbs=[\"play\",\"watch\"]\n",
    "objects=[\"Baseball\",\"Cricket\"]"
   ]
  },
  {
   "cell_type": "code",
   "execution_count": 43,
   "id": "personalized-smart",
   "metadata": {},
   "outputs": [
    {
     "name": "stdout",
     "output_type": "stream",
     "text": [
      "Americans  play Baseball\n",
      "Americans  play Cricket\n",
      "Americans  watch Baseball\n",
      "Americans  watch Cricket\n",
      "Indians play Baseball\n",
      "Indians play Cricket\n",
      "Indians watch Baseball\n",
      "Indians watch Cricket\n"
     ]
    }
   ],
   "source": [
    "for i in subjects:\n",
    "    #print(i)\n",
    "    for j in verbs:\n",
    "        #print(i,j)\n",
    "        for k in objects:\n",
    "            print(i,j,k)"
   ]
  },
  {
   "cell_type": "code",
   "execution_count": null,
   "id": "facial-patent",
   "metadata": {},
   "outputs": [],
   "source": []
  }
 ],
 "metadata": {
  "kernelspec": {
   "display_name": "Python 3",
   "language": "python",
   "name": "python3"
  },
  "language_info": {
   "codemirror_mode": {
    "name": "ipython",
    "version": 3
   },
   "file_extension": ".py",
   "mimetype": "text/x-python",
   "name": "python",
   "nbconvert_exporter": "python",
   "pygments_lexer": "ipython3",
   "version": "3.7.0"
  }
 },
 "nbformat": 4,
 "nbformat_minor": 5
}
